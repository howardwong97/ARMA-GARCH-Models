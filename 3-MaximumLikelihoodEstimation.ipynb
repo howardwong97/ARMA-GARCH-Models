{
 "cells": [
  {
   "cell_type": "code",
   "execution_count": 6,
   "metadata": {},
   "outputs": [
    {
     "data": {
      "text/html": [
       "<style>.container { width:80% !important; }</style>"
      ],
      "text/plain": [
       "<IPython.core.display.HTML object>"
      ]
     },
     "metadata": {},
     "output_type": "display_data"
    }
   ],
   "source": [
    "from IPython.core.display import display, HTML\n",
    "display(HTML(\"<style>.container { width:80% !important; }</style>\"))"
   ]
  },
  {
   "cell_type": "markdown",
   "metadata": {},
   "source": [
    "# Maximum Likelihood Estimation of ARMA-GARCH\n",
    "\n",
    "One possible approach of fitting an ARMA-GARCH model is to perform a maximum likelihood estimation (MLE) for the conditional mean (ARMA), then an MLE of the conditional variance (GARCH). However, joint estimation is preferred. In the first stage of ARMA estimation, there is an implicit assumption of conditional homoskedasticity. It is contradicted in the second stage when you explicitly model conditional heteroskedasticity using GARCH.\n",
    "\n",
    "## An Example: Normal Distribution\n",
    "\n",
    "### Theory\n",
    "\n",
    "Conditional log-likelihood of a normal random variable:\n",
    "\n",
    "\\begin{equation}\n",
    "    L_t = - \\frac{1}{2} \\sum_{t=1}^T \\left( \\ln 2 \\pi + \\ln \\sigma_t^2 + \\left( \\frac{\\epsilon_t}{\\sigma_t} \\right)^2 \\right)\n",
    "\\end{equation}\n",
    "\n",
    "Recall the ARMA model,\n",
    "\n",
    "\\begin{equation}\n",
    "    r_t = c + \\sum_{i=1}^{p} \\phi_i r_{t-i} + \\sum_{i=1}^{q} \\theta_i \\epsilon_{t-i} + a_t,\n",
    "\\end{equation}\n",
    "\n",
    "and simply rearrange:\n",
    "\n",
    "\\begin{equation}\n",
    "    \\epsilon_t = r_t - c - \\sum_{i=1}^{p} \\phi_i r_{t-i} - \\sum_{i=1}^{q} \\theta_i \\epsilon_{t-i}.\n",
    "\\end{equation}\n",
    "\n",
    "Substituting the above expression for $\\epsilon_t$ as well as:\n",
    "\n",
    "\\begin{equation}\n",
    "    \\sigma_t^2 = \\omega + \\sum_{i=1}^{y} \\alpha_i \\epsilon_{t-i}^2 + \\sum_{i=1}^{z} \\beta_i \\sigma_{t-i}^2,\n",
    "\\end{equation}\n",
    "\n",
    "into the conditional log-likelihood expression:\n",
    "\n",
    "\\begin{equation}\n",
    "    L_t = - \\frac{1}{2} \\sum_{t=1}^T \\left( \\ln 2 \\pi + \\ln \\left( \\omega + \\sum_{i=1}^{y} \\alpha_i \\epsilon_{t-i}^2 + \\sum_{i=1}^{z} \\beta_i \\sigma_{t-i}^2 \\right)\n",
    "    + \\frac{\\left(r_t - c - \\sum_{i=1}^{p} \\phi_i r_{t-i} - \\sum_{i=1}^{q} \\theta_i \\epsilon_{t-i}\\right)^2}{\\omega + \\sum_{i=1}^{y} \\alpha_i \\epsilon_{t-i}^2 + \\sum_{i=1}^{z} \\beta_i \\sigma_{t-i}^2} \\right)\\\\\n",
    "    \\\\\n",
    "    \\omega > 0, \\quad \\alpha, \\beta \\geq 0, \\quad \\sum_{i=1}^{y} \\alpha_i + \\sum_{i=1}^{z} \\beta_i < 1\n",
    "\\end{equation}"
   ]
  },
  {
   "cell_type": "code",
   "execution_count": 148,
   "metadata": {},
   "outputs": [],
   "source": [
    "import numpy as np\n",
    "\n",
    "def arma(phi0, phi1, theta, r):\n",
    "    T = len(r)\n",
    "    epsilon = np.zeros(T)\n",
    "    for t in range(T):\n",
    "        if t == 0:\n",
    "            epsilon[t] = 0\n",
    "        else:\n",
    "            epsilon[t] = r[t] - phi0 - phi1*r[t-1] - theta*epsilon[t-1]\n",
    "        return epsilon\n",
    "    \n",
    "\n",
    "def garch(alpha0, alpha1, beta, epsilon):\n",
    "    T = len(epsilon)\n",
    "    sigma_2 = np.zeros(T)\n",
    "    sigma_2 = np.where(sigma_2==0, 1e-99, sigma_2)\n",
    "    for t in range(T):\n",
    "        if t == 0:\n",
    "            sigma_2[t] = alpha0 / (1 - alpha1 - beta) # at t=0, initialize as unconditional variance\n",
    "        else:\n",
    "            sigma_2[t] = alpha0 + alpha1*epsilon[t-1]**2 + beta*sigma_2[t-1]\n",
    "    return sigma_2\n",
    "\n",
    "def arma_garch_loglikelihood(params, returns):\n",
    "    phi0, phi1, theta, alpha0, alpha1, beta = params\n",
    "    epsilon = arma(phi0, phi1, theta, returns)\n",
    "    sigma_2 = garch(alpha0, alpha1, beta, epsilon)\n",
    "    neg_llhs = -0.5 * (np.log(2*np.pi) + np.log(sigma_2) + (epsilon**2) / sigma_2)\n",
    "    neg_llh = np.sum(neg_llhs)\n",
    "    return neg_llh\n",
    "\n",
    "def constrain0(params):\n",
    "    phi0, phi1, theta, alpha0, alpha1, beta = params\n",
    "    return alpha0 - 1e-99\n",
    "\n",
    "def constrain1(params):\n",
    "    phi0, phi1, theta, alpha0, alpha1, beta = params\n",
    "    return alpha1\n",
    "\n",
    "def constrain2(params):\n",
    "    phi0, phi1, theta, alpha0, alpha1, beta = params\n",
    "    return beta\n",
    "\n",
    "def constrain3(params):\n",
    "    phi0, phi1, theta, alpha0, alpha1, beta = params\n",
    "    return -(1.0000000000000000001+alpha1+beta)"
   ]
  },
  {
   "cell_type": "code",
   "execution_count": 158,
   "metadata": {},
   "outputs": [
    {
     "name": "stderr",
     "output_type": "stream",
     "text": [
      "<ipython-input-148-690b8ff794cd>:22: RuntimeWarning: overflow encountered in double_scalars\n",
      "  sigma_2[t] = alpha0 + alpha1*epsilon[t-1]**2 + beta*sigma_2[t-1]\n",
      "<ipython-input-148-690b8ff794cd>:29: RuntimeWarning: invalid value encountered in log\n",
      "  neg_llhs = -0.5 * (np.log(2*np.pi) + np.log(sigma_2) + (epsilon**2) / sigma_2)\n"
     ]
    },
    {
     "name": "stdout",
     "output_type": "stream",
     "text": [
      "Inequality constraints incompatible    (Exit mode 4)\n",
      "            Current function value: -23484.454951896816\n",
      "            Iterations: 79\n",
      "            Function evaluations: 765\n",
      "            Gradient evaluations: 75\n"
     ]
    }
   ],
   "source": [
    "cons = ({'type': 'ineq', 'fun': constrain0},\n",
    "        {'type': 'ineq', 'fun': constrain1},\n",
    "        {'type': 'ineq', 'fun': constrain2},\n",
    "        {'type': 'ineq', 'fun': constrain3})\n",
    "vP0 = (0.01, 0.01, 0.01, 0.01, 0.01, 0.01)\n",
    "bounds = [(0.0, None) for i in range(6)]\n",
    "res = minimize(arma_garch_loglikelihood, vP0, args=(scaled_returns.values),\n",
    "               bounds=bounds, constraints=cons, options={'disp':True}, method='SLSQP')"
   ]
  },
  {
   "cell_type": "code",
   "execution_count": null,
   "metadata": {},
   "outputs": [],
   "source": []
  }
 ],
 "metadata": {
  "kernelspec": {
   "display_name": "Python 3",
   "language": "python",
   "name": "python3"
  },
  "language_info": {
   "codemirror_mode": {
    "name": "ipython",
    "version": 3
   },
   "file_extension": ".py",
   "mimetype": "text/x-python",
   "name": "python",
   "nbconvert_exporter": "python",
   "pygments_lexer": "ipython3",
   "version": "3.8.5"
  },
  "toc": {
   "base_numbering": "3",
   "nav_menu": {},
   "number_sections": true,
   "sideBar": true,
   "skip_h1_title": false,
   "title_cell": "Table of Contents",
   "title_sidebar": "Contents",
   "toc_cell": false,
   "toc_position": {},
   "toc_section_display": true,
   "toc_window_display": false
  }
 },
 "nbformat": 4,
 "nbformat_minor": 4
}
