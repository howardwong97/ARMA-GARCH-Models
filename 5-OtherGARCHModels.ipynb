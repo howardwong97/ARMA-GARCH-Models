{
 "cells": [
  {
   "cell_type": "markdown",
   "metadata": {},
   "source": [
    "# Other GARCH Models\n",
    "\n",
    "The simple GARCH model introduced and implemented in the previous notebooks are *symmetric*. In the context of financial returns, we often observe *asymmetric effects*, which means that a decrease in stock price tends to lead to a greater proportional increase in conditional volatility than an increase in stock price.\n",
    "\n",
    "## GJR-GARCH\n",
    "\n",
    "The Glosten-Jagannathan-Runkle GARCH (GJR-GARCH) model includes an extra *leverage* parameter which allows for an asymmetric response that is augmented by a negative market shock. A GJR-GARCH(1,1,1) model can be expressed as:\n",
    "\n",
    "\\begin{equation}\n",
    "    \\sigma_t^2 = \\omega + \\sum_{i=1}^p \\alpha_i \\epsilon_{t-i}^2 + \\sum_{j=1}^o \\gamma_j r_{t-j}^2 I_{[\\epsilon_{t-j} < 0]} + \\sum_{k=1}^q + \\beta_k \\sigma_{t-k}^2\n",
    "\\end{equation}\n",
    "\n",
    "In addition, we can augment the conditional mean equation (ARMA) by adding the conditional volatility term to model feedback. That is,\n",
    "\n",
    "\\begin{equation}\n",
    "    r_t = c + \\sum_{i=1}^{p} \\phi_i r_{t-i} + \\sum_{i=1}^{q} \\theta_i \\epsilon_{t-i} + \\eta_t \\sigma_t + \\epsilon_t,\n",
    "\\end{equation}"
   ]
  },
  {
   "cell_type": "code",
   "execution_count": null,
   "metadata": {},
   "outputs": [],
   "source": [
    "def arma_gjrgarch_negloglike(params, r):\n",
    "    # Assuming for the moment that we have ARMA(1,1)-GJR-GARCH(1,1,1)\n",
    "    c, phi, theta, eta, omega, alpha, gamma, beta = [i for i in params]"
   ]
  },
  {
   "cell_type": "code",
   "execution_count": 1,
   "metadata": {},
   "outputs": [],
   "source": [
    "a, b, c = [i for i in [1, 2, 3]]"
   ]
  },
  {
   "cell_type": "code",
   "execution_count": 3,
   "metadata": {},
   "outputs": [
    {
     "data": {
      "text/plain": [
       "2"
      ]
     },
     "execution_count": 3,
     "metadata": {},
     "output_type": "execute_result"
    }
   ],
   "source": [
    "b"
   ]
  },
  {
   "cell_type": "code",
   "execution_count": null,
   "metadata": {},
   "outputs": [],
   "source": []
  },
  {
   "cell_type": "code",
   "execution_count": null,
   "metadata": {},
   "outputs": [],
   "source": []
  },
  {
   "cell_type": "code",
   "execution_count": null,
   "metadata": {},
   "outputs": [],
   "source": []
  },
  {
   "cell_type": "code",
   "execution_count": null,
   "metadata": {},
   "outputs": [],
   "source": []
  },
  {
   "cell_type": "markdown",
   "metadata": {},
   "source": []
  },
  {
   "cell_type": "code",
   "execution_count": null,
   "metadata": {},
   "outputs": [],
   "source": []
  }
 ],
 "metadata": {
  "kernelspec": {
   "display_name": "Python 3",
   "language": "python",
   "name": "python3"
  },
  "language_info": {
   "codemirror_mode": {
    "name": "ipython",
    "version": 3
   },
   "file_extension": ".py",
   "mimetype": "text/x-python",
   "name": "python",
   "nbconvert_exporter": "python",
   "pygments_lexer": "ipython3",
   "version": "3.8.5"
  },
  "toc": {
   "base_numbering": "5",
   "nav_menu": {},
   "number_sections": true,
   "sideBar": true,
   "skip_h1_title": false,
   "title_cell": "Table of Contents",
   "title_sidebar": "Contents",
   "toc_cell": false,
   "toc_position": {},
   "toc_section_display": true,
   "toc_window_display": false
  }
 },
 "nbformat": 4,
 "nbformat_minor": 4
}
