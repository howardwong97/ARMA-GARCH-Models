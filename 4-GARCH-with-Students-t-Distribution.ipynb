{
 "cells": [
  {
   "cell_type": "markdown",
   "metadata": {},
   "source": [
    "# Students t-distribution\n",
    "\n",
    "## Definition\n",
    "\n",
    "The Student's t-distribution has a density function:\n",
    "\n",
    "\\begin{equation}\n",
    "f(\\epsilon) = \\frac{\\Gamma\\left(\\frac{\\nu + 1}{2}\\right)}{\\Gamma\\left(\\frac{\\nu}{2}\\right)} \\left(1 + \\frac{\\epsilon_t^2}{(\\nu-2)\\sigma_t^2}\\right)^{-\\frac{(\\nu+1}{2}},\n",
    "\\end{equation}\n",
    "\n",
    "where $\\Gamma$ is the gamma function defined as:\n",
    "\n",
    "\\begin{equation}\n",
    "\\Gamma(z) = \\int_0^{\\infty} t^{z-1} e^{-t} dt,\n",
    "\\end{equation}\n",
    "\n",
    "and $\\nu > 2$.\n",
    "\n",
    "## Code Implementation\n",
    "\n",
    "`armagarch.py` contains helper functions defined to help with fitting an assortment of ARMA-GARCH models. Currently, it is able to perform Maximum Likelihood Estimation (MLE) for both GARCH(1,1) and GJR-GARCH(1,1,1), and both a Normal distribution and a Student's t-distribution. In addition, the function `order_determination` performs a brute-force search for lag-orders $p$ and $q$ for the ARMA model by minimizing the AIC."
   ]
  },
  {
   "cell_type": "code",
   "execution_count": 1,
   "metadata": {},
   "outputs": [],
   "source": [
    "import numpy as np\n",
    "from yahooquery import Ticker\n",
    "\n",
    "# Download historical stock prices and compute the log returns\n",
    "yq = Ticker('AAPL')\n",
    "price = yq.history(period='max')\n",
    "returns = np.log(price['adjclose']/ price['adjclose'].shift(1)).dropna()\n",
    "\n",
    "# The log return is scaled by 100 by convention (helps with convergence)\n",
    "X = returns.values[-500:] * 100.0 "
   ]
  },
  {
   "cell_type": "code",
   "execution_count": 2,
   "metadata": {},
   "outputs": [],
   "source": [
    "# Import my helper functions\n",
    "import sys\n",
    "sys.path.append(\"tools\")\n",
    "import armagarch as ag"
   ]
  },
  {
   "cell_type": "code",
   "execution_count": 7,
   "metadata": {},
   "outputs": [
    {
     "name": "stdout",
     "output_type": "stream",
     "text": [
      "Negative log likelihood: 1069.9025896378403\n",
      "Estimates: [ 0.1910058   0.40990184 -0.50994818  0.16732256  0.18147606  0.80065494]\n"
     ]
    }
   ],
   "source": [
    "# An example of a Normally distributed ARMA(1,1)-GARCH(1,1) model:\n",
    "res = ag.fit_model(X, dist='norm', p=1, q=1, gjr=False)\n",
    "print('Negative log likelihood:', res.fun)\n",
    "print('Estimates:', res.x)"
   ]
  },
  {
   "cell_type": "code",
   "execution_count": 9,
   "metadata": {},
   "outputs": [
    {
     "name": "stdout",
     "output_type": "stream",
     "text": [
      "Negative log likelihood: 1045.8439675996817\n",
      "Estimates: [ 0.61193544 -0.02062925 -0.99646197 -0.12823164  1.         -0.15830835\n",
      "  0.34552913  0.12133341  0.09336497  0.8319841   3.        ]\n"
     ]
    }
   ],
   "source": [
    "# An example of a Student's t-distributed ARMA(2,3)-GJR-GARCH(1,1,1) model:\n",
    "res = ag.fit_model(X, dist='t', p=2, q=3, gjr=True)\n",
    "print('Negative log likelihood:', res.fun)\n",
    "print('Estimates:', res.x)"
   ]
  },
  {
   "cell_type": "code",
   "execution_count": 10,
   "metadata": {},
   "outputs": [
    {
     "name": "stdout",
     "output_type": "stream",
     "text": [
      "Determining order for ARMA(p,q)-GJR-GARCH(1,1,1) with Students t-distribution...\n"
     ]
    },
    {
     "data": {
      "application/vnd.jupyter.widget-view+json": {
       "model_id": "abe308c851c8475f822b312fc1527bba",
       "version_major": 2,
       "version_minor": 0
      },
      "text/plain": [
       "HBox(children=(HTML(value=''), FloatProgress(value=0.0, max=16.0), HTML(value='')))"
      ]
     },
     "metadata": {},
     "output_type": "display_data"
    },
    {
     "name": "stdout",
     "output_type": "stream",
     "text": [
      "Current best: ARMA(0,0)-GJR-GARCH(1,1,1), AIC = 2121.7546384646994\n",
      "Current best: ARMA(0,1)-GJR-GARCH(1,1,1), AIC = 2115.405975747827\n",
      "Current best: ARMA(2,3)-GJR-GARCH(1,1,1), AIC = 2113.6879351993634\n",
      "\n",
      "Order determination complete with p = 2 and q = 3\n",
      "AIC = 2113.6879351993634\n"
     ]
    }
   ],
   "source": [
    "# order_determination can determine the optimal lag orders (based on AIC)\n",
    "res = ag.order_determination(X, dist='t', max_p=3, max_q=3, gjr=True, verbose=True)"
   ]
  },
  {
   "cell_type": "code",
   "execution_count": null,
   "metadata": {},
   "outputs": [],
   "source": []
  }
 ],
 "metadata": {
  "kernelspec": {
   "display_name": "Python 3",
   "language": "python",
   "name": "python3"
  },
  "language_info": {
   "codemirror_mode": {
    "name": "ipython",
    "version": 3
   },
   "file_extension": ".py",
   "mimetype": "text/x-python",
   "name": "python",
   "nbconvert_exporter": "python",
   "pygments_lexer": "ipython3",
   "version": "3.8.5"
  },
  "toc": {
   "base_numbering": "4",
   "nav_menu": {},
   "number_sections": true,
   "sideBar": true,
   "skip_h1_title": false,
   "title_cell": "Table of Contents",
   "title_sidebar": "Contents",
   "toc_cell": false,
   "toc_position": {},
   "toc_section_display": true,
   "toc_window_display": false
  }
 },
 "nbformat": 4,
 "nbformat_minor": 4
}
