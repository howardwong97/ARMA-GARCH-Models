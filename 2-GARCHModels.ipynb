{
 "cells": [
  {
   "cell_type": "markdown",
   "metadata": {},
   "source": [
    "# GARCH Models\n",
    "\n",
    "## Theoretical Background of ARMA-GARCH\n",
    "\n",
    "\n",
    "### Defining ARMA and GARCH\n",
    "\n",
    "The *autoregressive moving average* (ARMA) representation of a time series combines a stationary autoregressive (AR) model with a stationary moving-average error process (MA). The *generalised autoregressive conditional heteroscedasticity* (GARCH) model is made up of two equations - the conditional mean equation and the conditional variance equation. By representing the conditional mean equation as an ARMA process, \n",
    "\n",
    "\n",
    "### Unconditional vs. Conditional Values\n",
    "\n",
    "The unconditional mean and variance represents the mean and variance of the distribution and is assumed to be constant. On the other hand, the conditional mean and variance can change at every point in time, and hence depends on historical values (i.e. conditioned on past information). Volatility often forms in 'clusters', meaning that high volatility tends to be sustained over a certain time period. This forms the foundation of GARCH models.\n",
    "\n",
    "### Return Distributions\n",
    "\n",
    "(*from this point on, 'returns' refers to log-returns*)\n",
    "\n",
    "Let $\\mathcal{F_{t-1}}$ be the *filtration* of past returns, which is simply an *information set* of all of the observed past returns up to a time $t-1$. Let $r_t$ represent the series of log returns for $t=\\{1,\\dots,T\\}$. If the distribution of returns is assumed to be *Normal*, one can write\n",
    "\n",
    "\\begin{equation}\n",
    "    r_t \\vert \\mathcal{F_{t-1}} \\sim N(\\bar{r_t}, \\sigma_t^2),\n",
    "\\end{equation}\n",
    "\n",
    "where $\\bar{r_t}$ is the conditional mean and $\\sigma_t^2$ represents the conditional variance of returns. However, while the returns are often assumed to follow a Normal distribution, this is not the case with our data, which exhibits clear leptokursis and skew. This leads to 'fat-tails' and skewness. Therefore, multiple distributions are considered:\n",
    "\n",
    "- Normal Distribution (NORM)\n",
    "- Generalized Error Distribution (GED)\n",
    "- Student t Distribution (STD)\n",
    "- Skewed Normal Distribution (SNORM)\n",
    "- Skewed Generalised Error Distribution (SGED)\n",
    "- Skewed Student t Distribution (SSTD)\n",
    "- Generalized Hyperbolic Function Distribution (GHYP)\n",
    "- Generalized Hyperbolic Skewed Student tDistribution\n",
    "- Normal Inverse Gaussian Distribution (NIG)\n",
    "\n",
    "Subsequently, the Akaike information criteria (AIC) will be used to assess the quality of each model. The AIC penalises a high number of estimated parameters and is hence a good criteria to obtain a parsimonious model, balancing goodness of fit and the number of parameters:\n",
    "\n",
    "\\begin{equation}\n",
    "    AIC = 2k - 2\\ln(\\hat{L}),\n",
    "\\end{equation}\n",
    "\n",
    "where $k$ is the number of estimated parameters and $\\hat{L}$ is the maximum value of the likelihood function for the model."
   ]
  },
  {
   "cell_type": "code",
   "execution_count": null,
   "metadata": {},
   "outputs": [],
   "source": []
  }
 ],
 "metadata": {
  "kernelspec": {
   "display_name": "R",
   "language": "R",
   "name": "ir"
  },
  "language_info": {
   "codemirror_mode": "r",
   "file_extension": ".r",
   "mimetype": "text/x-r-source",
   "name": "R",
   "pygments_lexer": "r",
   "version": "3.6.1"
  },
  "toc": {
   "base_numbering": 1,
   "nav_menu": {},
   "number_sections": true,
   "sideBar": true,
   "skip_h1_title": false,
   "title_cell": "Table of Contents",
   "title_sidebar": "Contents",
   "toc_cell": false,
   "toc_position": {},
   "toc_section_display": true,
   "toc_window_display": false
  }
 },
 "nbformat": 4,
 "nbformat_minor": 4
}
